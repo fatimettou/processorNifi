{
  "nbformat": 4,
  "nbformat_minor": 0,
  "metadata": {
    "colab": {
      "provenance": []
    },
    "kernelspec": {
      "name": "python3",
      "display_name": "Python 3"
    },
    "language_info": {
      "name": "python"
    }
  },
  "cells": [
    {
      "cell_type": "code",
      "execution_count": null,
      "metadata": {
        "id": "aVdEEvebDYHz"
      },
      "outputs": [],
      "source": [
        "#!pip install kafka-python"
      ]
    },
    {
      "cell_type": "code",
      "source": [
        "from kafka import KafkaConsumer\n",
        "kafka_servers = (\"kfakasda.eastus.cloudapp.azure.com:9092\")\n",
        "# initiate the consumer object\n",
        "consumer = KafkaConsumer( \"3mf_project\",group_id=\"group_name\",\n",
        "                         bootstrap_servers=kafka_servers )\n",
        "#fetch data sent on kafka topic  for msg in consumer:\n",
        "for msg in consumer:\n",
        "    print (msg)"
      ],
      "metadata": {
        "id": "PeOY8KhbDcPc"
      },
      "execution_count": null,
      "outputs": []
    },
    {
      "cell_type": "code",
      "source": [
        "from kafka import KafkaProducer\n",
        "import json\n",
        "\n",
        "# Configuration du producteur Kafka\n",
        "producer = KafkaProducer(\n",
        "    bootstrap_servers='kfakasda.eastus.cloudapp.azure.com:9092',\n",
        "    value_serializer=lambda v: json.dumps(v).encode('utf-8')\n",
        ")\n",
        "\n",
        "# Message JSON à envoyer\n",
        "message = {\n",
        "   \"data\":[\n",
        "      {\n",
        "         \"confort\":\"standard\",\n",
        "         \"prix_base_per_km\":2,\n",
        "         \"properties-client\":{\n",
        "            \"logitude\":2.3522,\n",
        "            \"latitude\":48.8566,\n",
        "            \"nomclient\":\"FALL\",\n",
        "            \"telephoneClient\":\"060786575\"\n",
        "         },\n",
        "         \"properties-driver\":{\n",
        "            \"logitude\":3.7038,\n",
        "            \"latitude\":40.4168,\n",
        "            \"nomDriver\":\"DIOP\",\n",
        "            \"telephoneDriver\":\"0760786575\"\n",
        "         }\n",
        "      }\n",
        "   ]\n",
        "}\n",
        "\n",
        "\n",
        "# Envoi du message au topic 'test'\n",
        "producer.send('3mf_project', value=message)\n",
        "\n",
        "# Attente de la livraison de tous les messages\n",
        "producer.flush()\n",
        "\n",
        "print(\"Message envoyé avec succès.\")"
      ],
      "metadata": {
        "id": "Vh2GpgBsDePd"
      },
      "execution_count": null,
      "outputs": []
    }
  ]
}